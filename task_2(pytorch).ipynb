{
  "cells": [
    {
      "cell_type": "code",
      "execution_count": 1,
      "metadata": {
        "id": "PmgIkjgg1mZb"
      },
      "outputs": [],
      "source": [
        "# Import necessary libraries\n",
        "import numpy as np\n",
        "import matplotlib.pyplot as plt\n",
        "import torch\n",
        "import torch.nn as nn\n",
        "import torch.optim as optim\n",
        "from torchvision import datasets, transforms\n",
        "from torch.utils.data import DataLoader\n",
        "from sklearn.metrics import classification_report, confusion_matrix\n",
        "import seaborn as sns\n",
        "\n",
        "# Set random seeds for reproducibility\n",
        "np.random.seed(42)\n",
        "torch.manual_seed(42)\n",
        "\n",
        "# Set plot style\n",
        "plt.style.use('seaborn-v0_8')"
      ]
    },
    {
      "cell_type": "code",
      "execution_count": 2,
      "metadata": {
        "colab": {
          "base_uri": "https://localhost:8080/"
        },
        "id": "jGecr53A6V2U",
        "outputId": "b62c925a-abb7-452d-d93c-c401d09ee535"
      },
      "outputs": [
        {
          "name": "stderr",
          "output_type": "stream",
          "text": [
            "100%|██████████| 9.91M/9.91M [00:00<00:00, 17.8MB/s]\n",
            "100%|██████████| 28.9k/28.9k [00:00<00:00, 482kB/s]\n",
            "100%|██████████| 1.65M/1.65M [00:00<00:00, 4.43MB/s]\n",
            "100%|██████████| 4.54k/4.54k [00:00<00:00, 4.28MB/s]"
          ]
        },
        {
          "name": "stdout",
          "output_type": "stream",
          "text": [
            "Training data size: 60000\n",
            "Testing data size: 10000\n"
          ]
        },
        {
          "name": "stderr",
          "output_type": "stream",
          "text": [
            "\n"
          ]
        }
      ],
      "source": [
        "# Define data transformations\n",
        "transform = transforms.Compose([\n",
        "    transforms.ToTensor(),\n",
        "    transforms.Normalize((0.1307,), (0.3081,))\n",
        "])\n",
        "\n",
        "# Load MNIST dataset\n",
        "train_dataset = datasets.MNIST('./data', train=True, download=True, transform=transform)\n",
        "test_dataset = datasets.MNIST('./data', train=False, transform=transform)\n",
        "\n",
        "# Create data loaders\n",
        "train_loader = DataLoader(train_dataset, batch_size=64, shuffle=True)\n",
        "test_loader = DataLoader(test_dataset, batch_size=1000, shuffle=False)\n",
        "\n",
        "print(\"Training data size:\", len(train_dataset))\n",
        "print(\"Testing data size:\", len(test_dataset))"
      ]
    },
    {
      "cell_type": "code",
      "execution_count": 3,
      "metadata": {
        "colab": {
          "base_uri": "https://localhost:8080/"
        },
        "id": "pS3CXoZ66czF",
        "outputId": "8a78603b-4098-4920-c682-4a1b96209fd7"
      },
      "outputs": [
        {
          "name": "stdout",
          "output_type": "stream",
          "text": [
            "CNN(\n",
            "  (conv1): Conv2d(1, 32, kernel_size=(3, 3), stride=(1, 1))\n",
            "  (conv2): Conv2d(32, 64, kernel_size=(3, 3), stride=(1, 1))\n",
            "  (conv3): Conv2d(64, 64, kernel_size=(3, 3), stride=(1, 1))\n",
            "  (pool): MaxPool2d(kernel_size=2, stride=2, padding=0, dilation=1, ceil_mode=False)\n",
            "  (fc1): Linear(in_features=576, out_features=64, bias=True)\n",
            "  (fc2): Linear(in_features=64, out_features=10, bias=True)\n",
            "  (dropout): Dropout(p=0.5, inplace=False)\n",
            ")\n"
          ]
        }
      ],
      "source": [
        "# Define the CNN model\n",
        "class CNN(nn.Module):\n",
        "    def __init__(self):\n",
        "        super(CNN, self).__init__()\n",
        "        self.conv1 = nn.Conv2d(1, 32, kernel_size=3)\n",
        "        self.conv2 = nn.Conv2d(32, 64, kernel_size=3)\n",
        "        self.conv3 = nn.Conv2d(64, 64, kernel_size=3)\n",
        "        self.pool = nn.MaxPool2d(2)\n",
        "        self.fc1 = nn.Linear(64 * 3 * 3, 64)\n",
        "        self.fc2 = nn.Linear(64, 10)\n",
        "        self.dropout = nn.Dropout(0.5)\n",
        "\n",
        "    def forward(self, x):\n",
        "        x = self.pool(torch.relu(self.conv1(x)))\n",
        "        x = self.pool(torch.relu(self.conv2(x)))\n",
        "        x = torch.relu(self.conv3(x))\n",
        "        x = x.view(-1, 64 * 3 * 3)\n",
        "        x = torch.relu(self.fc1(x))\n",
        "        x = self.dropout(x)\n",
        "        x = self.fc2(x)\n",
        "        return x\n",
        "\n",
        "# Create model instance\n",
        "device = torch.device(\"cuda\" if torch.cuda.is_available() else \"cpu\")\n",
        "model = CNN().to(device)\n",
        "print(model)"
      ]
    },
    {
      "cell_type": "code",
      "execution_count": 4,
      "metadata": {
        "colab": {
          "base_uri": "https://localhost:8080/"
        },
        "id": "tHhpqlut6inQ",
        "outputId": "2fa24042-e12f-466c-8602-b55c37cb90ca"
      },
      "outputs": [
        {
          "name": "stdout",
          "output_type": "stream",
          "text": [
            "Train Epoch: 1 [0/60000 (0%)]\tLoss: 2.304053\n",
            "Train Epoch: 1 [6400/60000 (11%)]\tLoss: 0.570453\n",
            "Train Epoch: 1 [12800/60000 (21%)]\tLoss: 0.334314\n",
            "Train Epoch: 1 [19200/60000 (32%)]\tLoss: 0.233629\n",
            "Train Epoch: 1 [25600/60000 (43%)]\tLoss: 0.095362\n",
            "Train Epoch: 1 [32000/60000 (53%)]\tLoss: 0.129812\n",
            "Train Epoch: 1 [38400/60000 (64%)]\tLoss: 0.238059\n",
            "Train Epoch: 1 [44800/60000 (75%)]\tLoss: 0.129315\n",
            "Train Epoch: 1 [51200/60000 (85%)]\tLoss: 0.074093\n",
            "Train Epoch: 1 [57600/60000 (96%)]\tLoss: 0.203523\n",
            "Epoch 1: Average loss: 0.2860, Accuracy: 91.29%\n",
            "Train Epoch: 2 [0/60000 (0%)]\tLoss: 0.051748\n",
            "Train Epoch: 2 [6400/60000 (11%)]\tLoss: 0.061463\n",
            "Train Epoch: 2 [12800/60000 (21%)]\tLoss: 0.017759\n",
            "Train Epoch: 2 [19200/60000 (32%)]\tLoss: 0.050128\n",
            "Train Epoch: 2 [25600/60000 (43%)]\tLoss: 0.033189\n",
            "Train Epoch: 2 [32000/60000 (53%)]\tLoss: 0.116761\n",
            "Train Epoch: 2 [38400/60000 (64%)]\tLoss: 0.055377\n",
            "Train Epoch: 2 [44800/60000 (75%)]\tLoss: 0.026725\n",
            "Train Epoch: 2 [51200/60000 (85%)]\tLoss: 0.119786\n",
            "Train Epoch: 2 [57600/60000 (96%)]\tLoss: 0.094084\n",
            "Epoch 2: Average loss: 0.0886, Accuracy: 97.52%\n",
            "Train Epoch: 3 [0/60000 (0%)]\tLoss: 0.023738\n",
            "Train Epoch: 3 [6400/60000 (11%)]\tLoss: 0.021506\n",
            "Train Epoch: 3 [12800/60000 (21%)]\tLoss: 0.044057\n",
            "Train Epoch: 3 [19200/60000 (32%)]\tLoss: 0.056034\n",
            "Train Epoch: 3 [25600/60000 (43%)]\tLoss: 0.093178\n",
            "Train Epoch: 3 [32000/60000 (53%)]\tLoss: 0.032666\n",
            "Train Epoch: 3 [38400/60000 (64%)]\tLoss: 0.057817\n",
            "Train Epoch: 3 [44800/60000 (75%)]\tLoss: 0.010065\n",
            "Train Epoch: 3 [51200/60000 (85%)]\tLoss: 0.042062\n",
            "Train Epoch: 3 [57600/60000 (96%)]\tLoss: 0.100969\n",
            "Epoch 3: Average loss: 0.0638, Accuracy: 98.14%\n",
            "Train Epoch: 4 [0/60000 (0%)]\tLoss: 0.007654\n",
            "Train Epoch: 4 [6400/60000 (11%)]\tLoss: 0.030419\n",
            "Train Epoch: 4 [12800/60000 (21%)]\tLoss: 0.065490\n",
            "Train Epoch: 4 [19200/60000 (32%)]\tLoss: 0.200949\n",
            "Train Epoch: 4 [25600/60000 (43%)]\tLoss: 0.029578\n",
            "Train Epoch: 4 [32000/60000 (53%)]\tLoss: 0.004977\n",
            "Train Epoch: 4 [38400/60000 (64%)]\tLoss: 0.074714\n",
            "Train Epoch: 4 [44800/60000 (75%)]\tLoss: 0.029664\n",
            "Train Epoch: 4 [51200/60000 (85%)]\tLoss: 0.005835\n",
            "Train Epoch: 4 [57600/60000 (96%)]\tLoss: 0.028856\n",
            "Epoch 4: Average loss: 0.0518, Accuracy: 98.46%\n",
            "Train Epoch: 5 [0/60000 (0%)]\tLoss: 0.028277\n",
            "Train Epoch: 5 [6400/60000 (11%)]\tLoss: 0.011981\n",
            "Train Epoch: 5 [12800/60000 (21%)]\tLoss: 0.024986\n",
            "Train Epoch: 5 [19200/60000 (32%)]\tLoss: 0.021330\n",
            "Train Epoch: 5 [25600/60000 (43%)]\tLoss: 0.028082\n",
            "Train Epoch: 5 [32000/60000 (53%)]\tLoss: 0.207049\n",
            "Train Epoch: 5 [38400/60000 (64%)]\tLoss: 0.151027\n",
            "Train Epoch: 5 [44800/60000 (75%)]\tLoss: 0.013315\n",
            "Train Epoch: 5 [51200/60000 (85%)]\tLoss: 0.010053\n",
            "Train Epoch: 5 [57600/60000 (96%)]\tLoss: 0.132436\n",
            "Epoch 5: Average loss: 0.0455, Accuracy: 98.67%\n",
            "Train Epoch: 6 [0/60000 (0%)]\tLoss: 0.007405\n",
            "Train Epoch: 6 [6400/60000 (11%)]\tLoss: 0.011769\n",
            "Train Epoch: 6 [12800/60000 (21%)]\tLoss: 0.009765\n",
            "Train Epoch: 6 [19200/60000 (32%)]\tLoss: 0.102140\n",
            "Train Epoch: 6 [25600/60000 (43%)]\tLoss: 0.034134\n",
            "Train Epoch: 6 [32000/60000 (53%)]\tLoss: 0.015759\n",
            "Train Epoch: 6 [38400/60000 (64%)]\tLoss: 0.060191\n",
            "Train Epoch: 6 [44800/60000 (75%)]\tLoss: 0.093345\n",
            "Train Epoch: 6 [51200/60000 (85%)]\tLoss: 0.010842\n",
            "Train Epoch: 6 [57600/60000 (96%)]\tLoss: 0.025561\n",
            "Epoch 6: Average loss: 0.0385, Accuracy: 98.90%\n",
            "Train Epoch: 7 [0/60000 (0%)]\tLoss: 0.024961\n",
            "Train Epoch: 7 [6400/60000 (11%)]\tLoss: 0.029512\n",
            "Train Epoch: 7 [12800/60000 (21%)]\tLoss: 0.023694\n",
            "Train Epoch: 7 [19200/60000 (32%)]\tLoss: 0.017401\n",
            "Train Epoch: 7 [25600/60000 (43%)]\tLoss: 0.001381\n",
            "Train Epoch: 7 [32000/60000 (53%)]\tLoss: 0.112308\n",
            "Train Epoch: 7 [38400/60000 (64%)]\tLoss: 0.006699\n",
            "Train Epoch: 7 [44800/60000 (75%)]\tLoss: 0.026441\n",
            "Train Epoch: 7 [51200/60000 (85%)]\tLoss: 0.087274\n",
            "Train Epoch: 7 [57600/60000 (96%)]\tLoss: 0.022504\n",
            "Epoch 7: Average loss: 0.0328, Accuracy: 99.05%\n",
            "Train Epoch: 8 [0/60000 (0%)]\tLoss: 0.058646\n",
            "Train Epoch: 8 [6400/60000 (11%)]\tLoss: 0.038837\n",
            "Train Epoch: 8 [12800/60000 (21%)]\tLoss: 0.001675\n",
            "Train Epoch: 8 [19200/60000 (32%)]\tLoss: 0.024916\n",
            "Train Epoch: 8 [25600/60000 (43%)]\tLoss: 0.007103\n",
            "Train Epoch: 8 [32000/60000 (53%)]\tLoss: 0.002241\n",
            "Train Epoch: 8 [38400/60000 (64%)]\tLoss: 0.068274\n",
            "Train Epoch: 8 [44800/60000 (75%)]\tLoss: 0.007046\n",
            "Train Epoch: 8 [51200/60000 (85%)]\tLoss: 0.012288\n",
            "Train Epoch: 8 [57600/60000 (96%)]\tLoss: 0.011803\n",
            "Epoch 8: Average loss: 0.0282, Accuracy: 99.21%\n",
            "Train Epoch: 9 [0/60000 (0%)]\tLoss: 0.002190\n",
            "Train Epoch: 9 [6400/60000 (11%)]\tLoss: 0.002499\n",
            "Train Epoch: 9 [12800/60000 (21%)]\tLoss: 0.027145\n",
            "Train Epoch: 9 [19200/60000 (32%)]\tLoss: 0.005689\n",
            "Train Epoch: 9 [25600/60000 (43%)]\tLoss: 0.008056\n",
            "Train Epoch: 9 [32000/60000 (53%)]\tLoss: 0.055206\n",
            "Train Epoch: 9 [38400/60000 (64%)]\tLoss: 0.058309\n",
            "Train Epoch: 9 [44800/60000 (75%)]\tLoss: 0.013162\n",
            "Train Epoch: 9 [51200/60000 (85%)]\tLoss: 0.006668\n",
            "Train Epoch: 9 [57600/60000 (96%)]\tLoss: 0.016573\n",
            "Epoch 9: Average loss: 0.0261, Accuracy: 99.19%\n",
            "Train Epoch: 10 [0/60000 (0%)]\tLoss: 0.000207\n",
            "Train Epoch: 10 [6400/60000 (11%)]\tLoss: 0.121470\n",
            "Train Epoch: 10 [12800/60000 (21%)]\tLoss: 0.011323\n",
            "Train Epoch: 10 [19200/60000 (32%)]\tLoss: 0.036596\n",
            "Train Epoch: 10 [25600/60000 (43%)]\tLoss: 0.000952\n",
            "Train Epoch: 10 [32000/60000 (53%)]\tLoss: 0.001589\n",
            "Train Epoch: 10 [38400/60000 (64%)]\tLoss: 0.001002\n",
            "Train Epoch: 10 [44800/60000 (75%)]\tLoss: 0.043498\n",
            "Train Epoch: 10 [51200/60000 (85%)]\tLoss: 0.040128\n",
            "Train Epoch: 10 [57600/60000 (96%)]\tLoss: 0.052517\n",
            "Epoch 10: Average loss: 0.0220, Accuracy: 99.36%\n"
          ]
        }
      ],
      "source": [
        "# Define loss function and optimizer\n",
        "criterion = nn.CrossEntropyLoss()\n",
        "optimizer = optim.Adam(model.parameters())\n",
        "\n",
        "# Training function\n",
        "def train(model, device, train_loader, optimizer, criterion, epoch):\n",
        "    model.train()\n",
        "    running_loss = 0\n",
        "    correct = 0\n",
        "    total = 0\n",
        "\n",
        "    for batch_idx, (data, target) in enumerate(train_loader):\n",
        "        data, target = data.to(device), target.to(device)\n",
        "        optimizer.zero_grad()\n",
        "        output = model(data)\n",
        "        loss = criterion(output, target)\n",
        "        loss.backward()\n",
        "        optimizer.step()\n",
        "\n",
        "        running_loss += loss.item()\n",
        "        pred = output.argmax(dim=1, keepdim=True)\n",
        "        correct += pred.eq(target.view_as(pred)).sum().item()\n",
        "        total += target.size(0)\n",
        "\n",
        "        if batch_idx % 100 == 0:\n",
        "            print(f'Train Epoch: {epoch} [{batch_idx * len(data)}/{len(train_loader.dataset)} '\n",
        "                  f'({100. * batch_idx / len(train_loader):.0f}%)]\\tLoss: {loss.item():.6f}')\n",
        "\n",
        "    return running_loss / len(train_loader), 100. * correct / total\n",
        "\n",
        "# Training loop\n",
        "epochs = 10\n",
        "train_losses = []\n",
        "train_accs = []\n",
        "\n",
        "for epoch in range(1, epochs + 1):\n",
        "    loss, acc = train(model, device, train_loader, optimizer, criterion, epoch)\n",
        "    train_losses.append(loss)\n",
        "    train_accs.append(acc)\n",
        "    print(f'Epoch {epoch}: Average loss: {loss:.4f}, Accuracy: {acc:.2f}%')"
      ]
    },
    {
      "cell_type": "code",
      "execution_count": 5,
      "metadata": {
        "colab": {
          "base_uri": "https://localhost:8080/",
          "height": 1000
        },
        "id": "3ijP1n9W-CqT",
        "outputId": "68d852c4-d047-4388-d8de-9f4869793bdf"
      },
      "outputs": [
        {
          "name": "stdout",
          "output_type": "stream",
          "text": [
            "Test set: Average loss: 0.0282, Accuracy: 99.25%\n",
            "\n",
            "Classification Report:\n",
            "              precision    recall  f1-score   support\n",
            "\n",
            "           0       0.99      0.99      0.99       980\n",
            "           1       0.99      1.00      1.00      1135\n",
            "           2       1.00      0.99      0.99      1032\n",
            "           3       0.99      1.00      0.99      1010\n",
            "           4       0.99      1.00      0.99       982\n",
            "           5       0.99      0.99      0.99       892\n",
            "           6       0.99      0.99      0.99       958\n",
            "           7       0.98      0.99      0.99      1028\n",
            "           8       1.00      0.99      1.00       974\n",
            "           9       0.99      0.98      0.99      1009\n",
            "\n",
            "    accuracy                           0.99     10000\n",
            "   macro avg       0.99      0.99      0.99     10000\n",
            "weighted avg       0.99      0.99      0.99     10000\n",
            "\n"
          ]
        },
        {
          "data": {
            "image/png": "[encoded data removed]",
            "text/plain": [
              "<Figure size 1000x800 with 2 Axes>"
            ]
          },
          "metadata": {},
          "output_type": "display_data"
        }
      ],
      "source": [
        "# Evaluation function\n",
        "def evaluate(model, device, test_loader):\n",
        "    model.eval()\n",
        "    test_loss = 0\n",
        "    correct = 0\n",
        "    all_preds = []\n",
        "    all_targets = []\n",
        "\n",
        "    with torch.no_grad():\n",
        "        for data, target in test_loader:\n",
        "            data, target = data.to(device), target.to(device)\n",
        "            output = model(data)\n",
        "            test_loss += criterion(output, target).item()\n",
        "            pred = output.argmax(dim=1, keepdim=True)\n",
        "            correct += pred.eq(target.view_as(pred)).sum().item()\n",
        "            all_preds.extend(pred.cpu().numpy())\n",
        "            all_targets.extend(target.cpu().numpy())\n",
        "\n",
        "    test_loss /= len(test_loader)\n",
        "    accuracy = 100. * correct / len(test_loader.dataset)\n",
        "    print(f'Test set: Average loss: {test_loss:.4f}, Accuracy: {accuracy:.2f}%')\n",
        "    return all_preds, all_targets\n",
        "\n",
        "# Evaluate the model\n",
        "all_preds, all_targets = evaluate(model, device, test_loader)\n",
        "\n",
        "# Print classification report\n",
        "print(\"\\nClassification Report:\")\n",
        "print(classification_report(all_targets, all_preds))\n",
        "\n",
        "# Create confusion matrix\n",
        "plt.figure(figsize=(10, 8))\n",
        "cm = confusion_matrix(all_targets, all_preds)\n",
        "sns.heatmap(cm, annot=True, fmt='d', cmap='Blues')\n",
        "plt.title('Confusion Matrix')\n",
        "plt.ylabel('True Label')\n",
        "plt.xlabel('Predicted Label')\n",
        "plt.show()"
      ]
    },
    {
      "cell_type": "code",
      "execution_count": 6,
      "metadata": {
        "colab": {
          "base_uri": "https://localhost:8080/",
          "height": 259
        },
        "id": "FfcBS5Ox-OhU",
        "outputId": "62ebf956-9485-43fd-f55d-7a1131f63bf3"
      },
      "outputs": [
        {
          "data": {
            "image/png": "[encoded data removed]",
            "text/plain": [
              "<Figure size 1500x300 with 5 Axes>"
            ]
          },
          "metadata": {},
          "output_type": "display_data"
        }
      ],
      "source": [
        "# Visualize predictions\n",
        "def plot_sample_predictions(model, device, test_loader, num_samples=5):\n",
        "    model.eval()\n",
        "    dataiter = iter(test_loader)\n",
        "    images, labels = next(dataiter)\n",
        "\n",
        "    plt.figure(figsize=(15, 3))\n",
        "    for i in range(num_samples):\n",
        "        plt.subplot(1, num_samples, i + 1)\n",
        "        plt.imshow(images[i].squeeze().numpy(), cmap='gray')\n",
        "        with torch.no_grad():\n",
        "            output = model(images[i:i+1].to(device))\n",
        "            pred = output.argmax(dim=1, keepdim=True)\n",
        "        true_label = labels[i].item()\n",
        "        pred_label = pred.item()\n",
        "        color = 'green' if true_label == pred_label else 'red'\n",
        "        plt.title(f'True: {true_label}\\nPred: {pred_label}', color=color)\n",
        "        plt.axis('off')\n",
        "    plt.tight_layout()\n",
        "    plt.show()\n",
        "\n",
        "# Plot sample predictions\n",
        "plot_sample_predictions(model, device, test_loader)"
      ]
    }
  ],
  "metadata": {
    "colab": {
      "provenance": []
    },
    "kernelspec": {
      "display_name": "Python 3",
      "name": "python3"
    },
    "language_info": {
      "name": "python",
      "version": "3.12.3"
    }
  },
  "nbformat": 4,
  "nbformat_minor": 0
}
