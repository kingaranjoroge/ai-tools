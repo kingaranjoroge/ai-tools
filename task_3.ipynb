{
  "cells": [
    {
      "cell_type": "code",
      "execution_count": 1,
      "metadata": {
        "colab": {
          "base_uri": "https://localhost:8080/"
        },
        "id": "yMtuFAzY-ckE",
        "outputId": "348d0ec6-89c1-414c-f3f5-b7c3243f57b2"
      },
      "outputs": [
        {
          "name": "stdout",
          "output_type": "stream",
          "text": [
            "Requirement already satisfied: spacy in /usr/local/lib/python3.11/dist-packages (3.8.7)\n",
            "Requirement already satisfied: spacy-legacy<3.1.0,>=3.0.11 in /usr/local/lib/python3.11/dist-packages (from spacy) (3.0.12)\n",
            "Requirement already satisfied: spacy-loggers<2.0.0,>=1.0.0 in /usr/local/lib/python3.11/dist-packages (from spacy) (1.0.5)\n",
            "Requirement already satisfied: murmurhash<1.1.0,>=0.28.0 in /usr/local/lib/python3.11/dist-packages (from spacy) (1.0.13)\n",
            "Requirement already satisfied: cymem<2.1.0,>=2.0.2 in /usr/local/lib/python3.11/dist-packages (from spacy) (2.0.11)\n",
            "Requirement already satisfied: preshed<3.1.0,>=3.0.2 in /usr/local/lib/python3.11/dist-packages (from spacy) (3.0.10)\n",
            "Requirement already satisfied: thinc<8.4.0,>=8.3.4 in /usr/local/lib/python3.11/dist-packages (from spacy) (8.3.6)\n",
            "Requirement already satisfied: wasabi<1.2.0,>=0.9.1 in /usr/local/lib/python3.11/dist-packages (from spacy) (1.1.3)\n",
            "Requirement already satisfied: srsly<3.0.0,>=2.4.3 in /usr/local/lib/python3.11/dist-packages (from spacy) (2.5.1)\n",
            "Requirement already satisfied: catalogue<2.1.0,>=2.0.6 in /usr/local/lib/python3.11/dist-packages (from spacy) (2.0.10)\n",
            "Requirement already satisfied: weasel<0.5.0,>=0.1.0 in /usr/local/lib/python3.11/dist-packages (from spacy) (0.4.1)\n",
            "Requirement already satisfied: typer<1.0.0,>=0.3.0 in /usr/local/lib/python3.11/dist-packages (from spacy) (0.16.0)\n",
            "Requirement already satisfied: tqdm<5.0.0,>=4.38.0 in /usr/local/lib/python3.11/dist-packages (from spacy) (4.67.1)\n",
            "Requirement already satisfied: numpy>=1.19.0 in /usr/local/lib/python3.11/dist-packages (from spacy) (2.0.2)\n",
            "Requirement already satisfied: requests<3.0.0,>=2.13.0 in /usr/local/lib/python3.11/dist-packages (from spacy) (2.32.3)\n",
            "Requirement already satisfied: pydantic!=1.8,!=1.8.1,<3.0.0,>=1.7.4 in /usr/local/lib/python3.11/dist-packages (from spacy) (2.11.5)\n",
            "Requirement already satisfied: jinja2 in /usr/local/lib/python3.11/dist-packages (from spacy) (3.1.6)\n",
            "Requirement already satisfied: setuptools in /usr/local/lib/python3.11/dist-packages (from spacy) (75.2.0)\n",
            "Requirement already satisfied: packaging>=20.0 in /usr/local/lib/python3.11/dist-packages (from spacy) (24.2)\n",
            "Requirement already satisfied: langcodes<4.0.0,>=3.2.0 in /usr/local/lib/python3.11/dist-packages (from spacy) (3.5.0)\n",
            "Requirement already satisfied: language-data>=1.2 in /usr/local/lib/python3.11/dist-packages (from langcodes<4.0.0,>=3.2.0->spacy) (1.3.0)\n",
            "Requirement already satisfied: annotated-types>=0.6.0 in /usr/local/lib/python3.11/dist-packages (from pydantic!=1.8,!=1.8.1,<3.0.0,>=1.7.4->spacy) (0.7.0)\n",
            "Requirement already satisfied: pydantic-core==2.33.2 in /usr/local/lib/python3.11/dist-packages (from pydantic!=1.8,!=1.8.1,<3.0.0,>=1.7.4->spacy) (2.33.2)\n",
            "Requirement already satisfied: typing-extensions>=4.12.2 in /usr/local/lib/python3.11/dist-packages (from pydantic!=1.8,!=1.8.1,<3.0.0,>=1.7.4->spacy) (4.14.0)\n",
            "Requirement already satisfied: typing-inspection>=0.4.0 in /usr/local/lib/python3.11/dist-packages (from pydantic!=1.8,!=1.8.1,<3.0.0,>=1.7.4->spacy) (0.4.1)\n",
            "Requirement already satisfied: charset-normalizer<4,>=2 in /usr/local/lib/python3.11/dist-packages (from requests<3.0.0,>=2.13.0->spacy) (3.4.2)\n",
            "Requirement already satisfied: idna<4,>=2.5 in /usr/local/lib/python3.11/dist-packages (from requests<3.0.0,>=2.13.0->spacy) (3.10)\n",
            "Requirement already satisfied: urllib3<3,>=1.21.1 in /usr/local/lib/python3.11/dist-packages (from requests<3.0.0,>=2.13.0->spacy) (2.4.0)\n",
            "Requirement already satisfied: certifi>=2017.4.17 in /usr/local/lib/python3.11/dist-packages (from requests<3.0.0,>=2.13.0->spacy) (2025.4.26)\n",
            "Requirement already satisfied: blis<1.4.0,>=1.3.0 in /usr/local/lib/python3.11/dist-packages (from thinc<8.4.0,>=8.3.4->spacy) (1.3.0)\n",
            "Requirement already satisfied: confection<1.0.0,>=0.0.1 in /usr/local/lib/python3.11/dist-packages (from thinc<8.4.0,>=8.3.4->spacy) (0.1.5)\n",
            "Requirement already satisfied: click>=8.0.0 in /usr/local/lib/python3.11/dist-packages (from typer<1.0.0,>=0.3.0->spacy) (8.2.1)\n",
            "Requirement already satisfied: shellingham>=1.3.0 in /usr/local/lib/python3.11/dist-packages (from typer<1.0.0,>=0.3.0->spacy) (1.5.4)\n",
            "Requirement already satisfied: rich>=10.11.0 in /usr/local/lib/python3.11/dist-packages (from typer<1.0.0,>=0.3.0->spacy) (13.9.4)\n",
            "Requirement already satisfied: cloudpathlib<1.0.0,>=0.7.0 in /usr/local/lib/python3.11/dist-packages (from weasel<0.5.0,>=0.1.0->spacy) (0.21.1)\n",
            "Requirement already satisfied: smart-open<8.0.0,>=5.2.1 in /usr/local/lib/python3.11/dist-packages (from weasel<0.5.0,>=0.1.0->spacy) (7.1.0)\n",
            "Requirement already satisfied: MarkupSafe>=2.0 in /usr/local/lib/python3.11/dist-packages (from jinja2->spacy) (3.0.2)\n",
            "Requirement already satisfied: marisa-trie>=1.1.0 in /usr/local/lib/python3.11/dist-packages (from language-data>=1.2->langcodes<4.0.0,>=3.2.0->spacy) (1.2.1)\n",
            "Requirement already satisfied: markdown-it-py>=2.2.0 in /usr/local/lib/python3.11/dist-packages (from rich>=10.11.0->typer<1.0.0,>=0.3.0->spacy) (3.0.0)\n",
            "Requirement already satisfied: pygments<3.0.0,>=2.13.0 in /usr/local/lib/python3.11/dist-packages (from rich>=10.11.0->typer<1.0.0,>=0.3.0->spacy) (2.19.1)\n",
            "Requirement already satisfied: wrapt in /usr/local/lib/python3.11/dist-packages (from smart-open<8.0.0,>=5.2.1->weasel<0.5.0,>=0.1.0->spacy) (1.17.2)\n",
            "Requirement already satisfied: mdurl~=0.1 in /usr/local/lib/python3.11/dist-packages (from markdown-it-py>=2.2.0->rich>=10.11.0->typer<1.0.0,>=0.3.0->spacy) (0.1.2)\n",
            "Collecting en-core-web-sm==3.8.0\n",
            "  Downloading https://github.com/explosion/spacy-models/releases/download/en_core_web_sm-3.8.0/en_core_web_sm-3.8.0-py3-none-any.whl (12.8 MB)\n",
            "\u001b[2K     \u001b[90m━━━━━━━━━━━━━━━━━━━━━━━━━━━━━━━━━━━━━━━━\u001b[0m \u001b[32m12.8/12.8 MB\u001b[0m \u001b[31m70.5 MB/s\u001b[0m eta \u001b[36m0:00:00\u001b[0m\n",
            "\u001b[?25h\u001b[38;5;2m✔ Download and installation successful\u001b[0m\n",
            "You can now load the package via spacy.load('en_core_web_sm')\n",
            "\u001b[38;5;3m⚠ Restart to reload dependencies\u001b[0m\n",
            "If you are in a Jupyter or Colab notebook, you may need to restart Python in\n",
            "order to load all the package's dependencies. You can do this by selecting the\n",
            "'Restart kernel' or 'Restart runtime' option.\n",
            "Collecting vaderSentiment\n",
            "  Downloading vaderSentiment-3.3.2-py2.py3-none-any.whl.metadata (572 bytes)\n",
            "Requirement already satisfied: requests in /usr/local/lib/python3.11/dist-packages (from vaderSentiment) (2.32.3)\n",
            "Requirement already satisfied: charset-normalizer<4,>=2 in /usr/local/lib/python3.11/dist-packages (from requests->vaderSentiment) (3.4.2)\n",
            "Requirement already satisfied: idna<4,>=2.5 in /usr/local/lib/python3.11/dist-packages (from requests->vaderSentiment) (3.10)\n",
            "Requirement already satisfied: urllib3<3,>=1.21.1 in /usr/local/lib/python3.11/dist-packages (from requests->vaderSentiment) (2.4.0)\n",
            "Requirement already satisfied: certifi>=2017.4.17 in /usr/local/lib/python3.11/dist-packages (from requests->vaderSentiment) (2025.4.26)\n",
            "Downloading vaderSentiment-3.3.2-py2.py3-none-any.whl (125 kB)\n",
            "\u001b[2K   \u001b[90m━━━━━━━━━━━━━━━━━━━━━━━━━━━━━━━━━━━━━━━━\u001b[0m \u001b[32m126.0/126.0 kB\u001b[0m \u001b[31m2.8 MB/s\u001b[0m eta \u001b[36m0:00:00\u001b[0m\n",
            "\u001b[?25hInstalling collected packages: vaderSentiment\n",
            "Successfully installed vaderSentiment-3.3.2\n"
          ]
        }
      ],
      "source": [
        "# Install required packages\n",
        "!pip install spacy\n",
        "!python -m spacy download en_core_web_sm\n",
        "!pip install vaderSentiment"
      ]
    },
    {
      "cell_type": "code",
      "execution_count": 2,
      "metadata": {
        "id": "WyJIvl1aEzFe"
      },
      "outputs": [],
      "source": [
        "# Import necessary libraries\n",
        "import spacy\n",
        "import pandas as pd\n",
        "from vaderSentiment.vaderSentiment import SentimentIntensityAnalyzer\n",
        "import matplotlib.pyplot as plt\n",
        "import seaborn as sns\n",
        "\n",
        "# Load spaCy model\n",
        "nlp = spacy.load(\"en_core_web_sm\")\n",
        "\n",
        "# Initialize VADER sentiment analyzer\n",
        "sentiment_analyzer = SentimentIntensityAnalyzer()\n",
        "\n",
        "# Set plot style\n",
        "plt.style.use('seaborn-v0_8')"
      ]
    },
    {
      "cell_type": "code",
      "execution_count": 3,
      "metadata": {
        "id": "tSObaXroFD9h"
      },
      "outputs": [],
      "source": [
        "# Sample Amazon reviews\n",
        "reviews = [\n",
        "    \"I absolutely love my new iPhone 14 Pro Max! The camera quality is amazing and the battery life lasts all day. Apple has really outdone themselves with this one.\",\n",
        "    \"The Samsung Galaxy S23 Ultra is a great phone, but the price is too high. The display is beautiful though, and the S Pen is a nice addition.\",\n",
        "    \"My experience with the Sony WH-1000XM4 headphones has been fantastic. The noise cancellation is incredible, but the touch controls can be a bit finicky sometimes.\",\n",
        "    \"The Amazon Echo Dot is okay for basic tasks, but Alexa often misunderstands my commands. The sound quality is decent for its size though.\",\n",
        "    \"The Dell XPS 13 laptop is a premium device with excellent build quality. However, the webcam placement is awkward and the battery life could be better.\"\n",
        "]\n",
        "\n",
        "# Function to extract product and brand entities\n",
        "def extract_entities(text):\n",
        "    doc = nlp(text)\n",
        "    entities = []\n",
        "    for ent in doc.ents:\n",
        "        if ent.label_ in ['PRODUCT', 'ORG']:\n",
        "            entities.append((ent.text, ent.label_))\n",
        "    return entities\n",
        "\n",
        "# Function to analyze sentiment\n",
        "def analyze_sentiment(text):\n",
        "    # Get VADER sentiment scores\n",
        "    scores = sentiment_analyzer.polarity_scores(text)\n",
        "\n",
        "    # Determine sentiment label\n",
        "    if scores['compound'] >= 0.05:\n",
        "        sentiment = 'Positive'\n",
        "    elif scores['compound'] <= -0.05:\n",
        "        sentiment = 'Negative'\n",
        "    else:\n",
        "        sentiment = 'Neutral'\n",
        "\n",
        "    return sentiment, scores"
      ]
    },
    {
      "cell_type": "code",
      "execution_count": 4,
      "metadata": {
        "colab": {
          "base_uri": "https://localhost:8080/"
        },
        "id": "FDIjpDkBFNNG",
        "outputId": "bc86bac6-cf92-412a-b2e0-c0cb1f471d81"
      },
      "outputs": [
        {
          "name": "stdout",
          "output_type": "stream",
          "text": [
            "\n",
            "Review 1:\n",
            "--------------------------------------------------\n",
            "Text: I absolutely love my new iPhone 14 Pro Max! The camera quality is amazing and the battery life lasts all day. Apple has really outdone themselves with this one.\n",
            "\n",
            "Extracted Entities:\n",
            "- Apple (ORG)\n",
            "\n",
            "Sentiment: Positive\n",
            "Compound Score: 0.862\n",
            "--------------------------------------------------\n",
            "\n",
            "Review 2:\n",
            "--------------------------------------------------\n",
            "Text: The Samsung Galaxy S23 Ultra is a great phone, but the price is too high. The display is beautiful though, and the S Pen is a nice addition.\n",
            "\n",
            "Extracted Entities:\n",
            "- the S Pen (ORG)\n",
            "\n",
            "Sentiment: Positive\n",
            "Compound Score: 0.912\n",
            "--------------------------------------------------\n",
            "\n",
            "Review 3:\n",
            "--------------------------------------------------\n",
            "Text: My experience with the Sony WH-1000XM4 headphones has been fantastic. The noise cancellation is incredible, but the touch controls can be a bit finicky sometimes.\n",
            "\n",
            "Extracted Entities:\n",
            "- Sony (ORG)\n",
            "\n",
            "Sentiment: Positive\n",
            "Compound Score: 0.318\n",
            "--------------------------------------------------\n",
            "\n",
            "Review 4:\n",
            "--------------------------------------------------\n",
            "Text: The Amazon Echo Dot is okay for basic tasks, but Alexa often misunderstands my commands. The sound quality is decent for its size though.\n",
            "\n",
            "Extracted Entities:\n",
            "- Alexa (ORG)\n",
            "\n",
            "Sentiment: Negative\n",
            "Compound Score: -0.285\n",
            "--------------------------------------------------\n",
            "\n",
            "Review 5:\n",
            "--------------------------------------------------\n",
            "Text: The Dell XPS 13 laptop is a premium device with excellent build quality. However, the webcam placement is awkward and the battery life could be better.\n",
            "\n",
            "Extracted Entities:\n",
            "\n",
            "Sentiment: Positive\n",
            "Compound Score: 0.718\n",
            "--------------------------------------------------\n"
          ]
        }
      ],
      "source": [
        "# Create a list to store results\n",
        "results = []\n",
        "\n",
        "# Process each review\n",
        "for i, review in enumerate(reviews, 1):\n",
        "    # Extract entities\n",
        "    entities = extract_entities(review)\n",
        "\n",
        "    # Analyze sentiment\n",
        "    sentiment, scores = analyze_sentiment(review)\n",
        "\n",
        "    # Store results\n",
        "    results.append({\n",
        "        'Review': review,\n",
        "        'Entities': entities,\n",
        "        'Sentiment': sentiment,\n",
        "        'Compound Score': scores['compound']\n",
        "    })\n",
        "\n",
        "    # Print results for each review\n",
        "    print(f\"\\nReview {i}:\")\n",
        "    print(\"-\" * 50)\n",
        "    print(f\"Text: {review}\")\n",
        "    print(\"\\nExtracted Entities:\")\n",
        "    for entity, label in entities:\n",
        "        print(f\"- {entity} ({label})\")\n",
        "    print(f\"\\nSentiment: {sentiment}\")\n",
        "    print(f\"Compound Score: {scores['compound']:.3f}\")\n",
        "    print(\"-\" * 50)"
      ]
    },
    {
      "cell_type": "code",
      "execution_count": 5,
      "metadata": {
        "colab": {
          "base_uri": "https://localhost:8080/",
          "height": 1000
        },
        "id": "DLxhrNMOFRKs",
        "outputId": "d2638e50-1080-4504-eed0-c67d802674a5"
      },
      "outputs": [
        {
          "data": {
            "image/png": "[encoded data removed]",
            "text/plain": [
              "<Figure size 1000x600 with 1 Axes>"
            ]
          },
          "metadata": {},
          "output_type": "display_data"
        },
        {
          "data": {
            "image/png": "[encoded data removed]",
            "text/plain": [
              "<Figure size 1000x600 with 1 Axes>"
            ]
          },
          "metadata": {},
          "output_type": "display_data"
        }
      ],
      "source": [
        "# Convert results to DataFrame\n",
        "df = pd.DataFrame(results)\n",
        "\n",
        "# Create sentiment distribution plot\n",
        "plt.figure(figsize=(10, 6))\n",
        "sentiment_counts = df['Sentiment'].value_counts()\n",
        "sns.barplot(x=sentiment_counts.index, y=sentiment_counts.values)\n",
        "plt.title('Distribution of Sentiment in Reviews')\n",
        "plt.xlabel('Sentiment')\n",
        "plt.ylabel('Count')\n",
        "plt.show()\n",
        "\n",
        "# Create compound score distribution\n",
        "plt.figure(figsize=(10, 6))\n",
        "sns.histplot(data=df, x='Compound Score', bins=10)\n",
        "plt.title('Distribution of Compound Sentiment Scores')\n",
        "plt.xlabel('Compound Score')\n",
        "plt.ylabel('Count')\n",
        "plt.show()"
      ]
    },
    {
      "cell_type": "code",
      "execution_count": 6,
      "metadata": {
        "colab": {
          "base_uri": "https://localhost:8080/"
        },
        "id": "IsksKXZxFfdI",
        "outputId": "39cd8be2-f2f4-45b0-f676-0939b9669aaf"
      },
      "outputs": [
        {
          "name": "stdout",
          "output_type": "stream",
          "text": [
            "Summary Statistics:\n",
            "--------------------------------------------------\n",
            "Total Reviews: 5\n",
            "Average Compound Score: 0.505\n",
            "\n",
            "Sentiment Distribution:\n",
            "Sentiment\n",
            "Positive    4\n",
            "Negative    1\n",
            "Name: count, dtype: int64\n",
            "\n",
            "Unique Entities Found:\n",
            "- Alexa (ORG)\n",
            "- Apple (ORG)\n",
            "- Sony (ORG)\n",
            "- the S Pen (ORG)\n"
          ]
        }
      ],
      "source": [
        "# Print summary statistics\n",
        "print(\"Summary Statistics:\")\n",
        "print(\"-\" * 50)\n",
        "print(f\"Total Reviews: {len(df)}\")\n",
        "print(f\"Average Compound Score: {df['Compound Score'].mean():.3f}\")\n",
        "print(\"\\nSentiment Distribution:\")\n",
        "print(df['Sentiment'].value_counts())\n",
        "\n",
        "# Print all unique entities found\n",
        "print(\"\\nUnique Entities Found:\")\n",
        "all_entities = set()\n",
        "for entities in df['Entities']:\n",
        "    for entity, label in entities:\n",
        "        all_entities.add(f\"{entity} ({label})\")\n",
        "for entity in sorted(all_entities):\n",
        "    print(f\"- {entity}\")"
      ]
    }
  ],
  "metadata": {
    "colab": {
      "provenance": []
    },
    "kernelspec": {
      "display_name": "Python 3",
      "name": "python3"
    },
    "language_info": {
      "name": "python"
    }
  },
  "nbformat": 4,
  "nbformat_minor": 0
}
